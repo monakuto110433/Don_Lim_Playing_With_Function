{
 "cells": [
  {
   "cell_type": "markdown",
   "metadata": {},
   "source": [
    "## Playing With Functions"
   ]
  },
  {
   "cell_type": "markdown",
   "metadata": {},
   "source": [
    "These exercises are designed to strengthen your grasp on basic programming concepts. Read what is required of you carefully. For example, instructions to **return** values are not the same as those of **printing**.\n",
    "\n",
    "Make sure that cells are in **script mode** (not **interactive mode**).\n"
   ]
  },
  {
   "cell_type": "markdown",
   "metadata": {},
   "source": [
    "# 1\n",
    "### 1 point\n",
    "\n",
    "Write a function that takes the circumference of a circle as a parameter and **returns** the area of that circle.\n",
    "\n",
    "Note: Assume the value of pi is 3.1416"
   ]
  },
  {
   "cell_type": "code",
   "execution_count": 2,
   "metadata": {},
   "outputs": [
    {
     "name": "stdout",
     "output_type": "stream",
     "text": [
      "Enter circumference:12\n",
      "11.459129106187929\n"
     ]
    }
   ],
   "source": [
    "def circum_to_area(circumference):\n",
    "    radius = circumference / (2*3.1416)\n",
    "    area= 3.1416 * radius **2\n",
    "    return area\n",
    "\n",
    "circum=int(input(\"Enter circumference:\"))\n",
    "area= circum_to_area(circum)\n",
    "print(area)"
   ]
  },
  {
   "cell_type": "markdown",
   "metadata": {},
   "source": [
    "# 2\n",
    "### 2 points\n",
    "\n",
    "Write a function that takes a 5-character string as a parameter and **returns** the string in reverse order.\n",
    "\n",
    "e.g. reverseString(\"Hello\") -> \"olleH\""
   ]
  },
  {
   "cell_type": "code",
   "execution_count": 5,
   "metadata": {},
   "outputs": [
    {
     "name": "stdout",
     "output_type": "stream",
     "text": [
      "Enter a word:Hello\n",
      "olleH\n"
     ]
    }
   ],
   "source": [
    "def reverser(word):\n",
    "    reverseString=word[::-1]\n",
    "    return reverseString\n",
    "\n",
    "word=input(\"Enter a word:\")\n",
    "new_word=reverser(word)\n",
    "print(new_word)"
   ]
  },
  {
   "cell_type": "markdown",
   "metadata": {},
   "source": [
    "# 3\n",
    "### 2 points\n",
    "\n",
    "Write a function that takes a positive integer as input and **returns** the sum of all positive integers smaller than and including the number itself.\n",
    "\n",
    "e.g. backAddition(5) -> 1 + 2 + 3 + 4 + 5 -> 15"
   ]
  },
  {
   "cell_type": "code",
   "execution_count": 11,
   "metadata": {
    "scrolled": true
   },
   "outputs": [
    {
     "name": "stdout",
     "output_type": "stream",
     "text": [
      "Enter a number:5\n",
      "15\n"
     ]
    }
   ],
   "source": [
    "def backAddition(integer):\n",
    "    y=0 #Initialize\n",
    "    while(integer>0):\n",
    "            y=y+integer\n",
    "            integer = integer-1\n",
    "    return y\n",
    "\n",
    "x=int(input(\"Enter a number:\"))\n",
    "print(backAddition(x))"
   ]
  },
  {
   "cell_type": "markdown",
   "metadata": {},
   "source": [
    "# 4\n",
    "### 5 points (all or nothing)\n",
    "\n",
    "The sum of the squares of the first ten natural numbers is,\n",
    "12 + 22 + ... + 102 = 385\n",
    "\n",
    "The square of the sum of the first ten natural numbers is,\n",
    "(1 + 2 + ... + 10)2 = 552 = 3025\n",
    "\n",
    "Hence the difference between the sum of the squares of the first ten natural numbers and the square of the sum is 3025 − 385 = 2640.\n",
    "\n",
    "Find the difference between the sum of the squares of the first one hundred natural numbers and the square of the sum.\n",
    "\n",
    "Show code that generates the answer."
   ]
  },
  {
   "cell_type": "code",
   "execution_count": 1,
   "metadata": {
    "scrolled": true
   },
   "outputs": [
    {
     "name": "stdout",
     "output_type": "stream",
     "text": [
      "25164150\n"
     ]
    }
   ],
   "source": [
    "total_normal=0\n",
    "total_of_squares=0\n",
    "for i in range(1,101):\n",
    "    total_of_squares = total_of_squares + i**2\n",
    "\n",
    "for z in range(1,101):\n",
    "    total_normal = total_normal + z\n",
    "\n",
    "total_squared = total_normal**2\n",
    "\n",
    "difference= total_squared - total_of_squares\n",
    "print(difference)"
   ]
  },
  {
   "cell_type": "markdown",
   "metadata": {},
   "source": [
    "# 5\n",
    "### 5 points \n",
    "\n",
    "Write a function that allows a self-service Point of Sale system to give you the exact change when you pay in cash.\n",
    "\n",
    "The function should accept the number of cents entered by the caller of the function. It then should **display** the denominations of the coins that should be given to the buyer. The change should use as few coins as possible. Assume that the Point of Sale system is loaded with 1 cent, 5 cents, 25 cents and 1 peso coins.\n",
    "\n",
    "Write main program code that accepts the number of cents manually through user input and calls the function written above.\n",
    "\n",
    "**Input:** The program accepts one positive integer, ***cents***, corresponding to the total change to be given by the Point of Sale system.\n",
    "\n",
    "**Output:** The number of 1 peso, 50 cents, 25 cents and 1 cent coins respectively. There should be one output per line.\n",
    "\n",
    "**Sample Input 1:**  \n",
    "105\n",
    "\n",
    "**Sample Output 1**  \n",
    "1  \n",
    "0  \n",
    "0  \n",
    "1  \n",
    "0  \n",
    "\n",
    "**Sample Input 2:**  \n",
    "69  \n",
    "\n",
    "**Sample Output 2:**  \n",
    "0  \n",
    "2  \n",
    "1  \n",
    "1  \n",
    "4  \n",
    "\n",
    "\n"
   ]
  },
  {
   "cell_type": "code",
   "execution_count": 2,
   "metadata": {
    "scrolled": false
   },
   "outputs": [
    {
     "name": "stdout",
     "output_type": "stream",
     "text": [
      "Enter cents:69\n",
      "0\n",
      "1\n",
      "0\n",
      "3\n",
      "4\n"
     ]
    }
   ],
   "source": [
    "def cents_denomination(cents):\n",
    "    #Initialize\n",
    "    cents_100=0\n",
    "    cents_50=0\n",
    "    cents_25=0\n",
    "    cents_5=0\n",
    "    cents_1=0\n",
    "\n",
    "    while(cents>0):\n",
    "\n",
    "        if(cents>=100):\n",
    "            new_cents = cents % 100\n",
    "            cents_100 = cents // 100\n",
    "            cents = new_cents\n",
    "\n",
    "        elif(cents>=50):\n",
    "            new_cents = cents % 50\n",
    "            cents_50 = cents // 50\n",
    "            cents = new_cents\n",
    "\n",
    "        elif(cents>=25):\n",
    "            new_cents = cents % 25\n",
    "            cents_25 = cents // 25\n",
    "            cents = new_cents\n",
    "\n",
    "        elif(cents>=5):\n",
    "            new_cents = cents % 5\n",
    "            cents_5 = cents // 5\n",
    "            cents = new_cents\n",
    "\n",
    "        else:\n",
    "            new_cents = cents % 1\n",
    "            cents_1 = cents // 1\n",
    "            cents = new_cents\n",
    "\n",
    "    print(cents_100)\n",
    "    print(cents_50)\n",
    "    print(cents_25)\n",
    "    print(cents_5)\n",
    "    print(cents_1)\n",
    "        \n",
    "cents=int(input(\"Enter cents:\"))\n",
    "cents_denomination(cents)      "
   ]
  }
 ],
 "metadata": {
  "kernelspec": {
   "display_name": "Python 3",
   "language": "python",
   "name": "python3"
  },
  "language_info": {
   "codemirror_mode": {
    "name": "ipython",
    "version": 3
   },
   "file_extension": ".py",
   "mimetype": "text/x-python",
   "name": "python",
   "nbconvert_exporter": "python",
   "pygments_lexer": "ipython3",
   "version": "3.7.6"
  }
 },
 "nbformat": 4,
 "nbformat_minor": 2
}
